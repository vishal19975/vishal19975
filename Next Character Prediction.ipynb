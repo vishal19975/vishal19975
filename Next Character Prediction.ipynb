{
  "cells": [
    {
      "cell_type": "markdown",
      "metadata": {
        "id": "view-in-github",
        "colab_type": "text"
      },
      "source": [
        "<a href=\"https://colab.research.google.com/github/vishal19975/vishal19975/blob/main/Next%20Character%20Prediction.ipynb\" target=\"_parent\"><img src=\"https://colab.research.google.com/assets/colab-badge.svg\" alt=\"Open In Colab\"/></a>"
      ]
    },
    {
      "cell_type": "code",
      "execution_count": null,
      "metadata": {
        "id": "7-dK5A0Jxnl-"
      },
      "outputs": [],
      "source": [
        "import numpy as np\n",
        "import pandas as pd\n",
        "import matplotlib.pyplot as plt\n",
        "%matplotlib inline\n",
        "from keras.utils.data_utils import get_file\n",
        "from keras.datasets import imdb\n",
        "from keras.preprocessing import sequence\n",
        "from keras.models import Sequential\n",
        "from keras.layers import Dense, Dropout, Activation, Flatten\n",
        "from keras.layers import Input, Embedding, Reshape, merge, LSTM, Bidirectional\n",
        "from keras.layers import SimpleRNN, TimeDistributed\n",
        "from tensorflow.keras.layers import BatchNormalization\n",
        "from keras.utils import np_utils\n",
        "from keras.layers import Conv1D, MaxPooling1D, ZeroPadding1D\n",
        "from keras.utils import np_utils\n",
        "from tensorflow.keras.optimizers import Adam\n",
        "import pickle as cPickle\n",
        "import bcolz\n",
        "import re\n",
        "from numpy.random import random, permutation, randn, normal, uniform, choice"
      ]
    },
    {
      "cell_type": "code",
      "execution_count": null,
      "metadata": {
        "colab": {
          "base_uri": "https://localhost:8080/"
        },
        "id": "6QdUkzPlyueM",
        "outputId": "ce3062f4-54dc-4073-ecc3-f0e880891456"
      },
      "outputs": [
        {
          "data": {
            "text/plain": [
              "600893"
            ]
          },
          "execution_count": 53,
          "metadata": {},
          "output_type": "execute_result"
        }
      ],
      "source": [
        "path = get_file('nietzsche.txt', origin=\"https://s3.amazonaws.com/text-datasets/nietzsche.txt\")\n",
        "text = open(path).read()\n",
        "len(text)\n"
      ]
    },
    {
      "cell_type": "code",
      "execution_count": null,
      "metadata": {
        "colab": {
          "base_uri": "https://localhost:8080/"
        },
        "id": "6Uh3AEDxz0LE",
        "outputId": "9807973c-1f64-4d22-fc8e-ce49044c068a"
      },
      "outputs": [
        {
          "data": {
            "text/plain": [
              "85"
            ]
          },
          "execution_count": 54,
          "metadata": {},
          "output_type": "execute_result"
        }
      ],
      "source": [
        "chars = sorted(list(set(text)))\n",
        "len(chars)+1"
      ]
    },
    {
      "cell_type": "code",
      "execution_count": null,
      "metadata": {
        "id": "au5aiZIjz91v"
      },
      "outputs": [],
      "source": [
        "chars.insert(0, '\\0')"
      ]
    },
    {
      "cell_type": "code",
      "execution_count": null,
      "metadata": {
        "id": "vvD_CFe00A0g"
      },
      "outputs": [],
      "source": [
        "char_to_index = {v:i for i,v in enumerate(chars)}\n",
        "index_to_char = {i:v for i,v in enumerate(chars)}"
      ]
    },
    {
      "cell_type": "code",
      "execution_count": null,
      "metadata": {
        "id": "-pNp_0lg0CmX"
      },
      "outputs": [],
      "source": [
        "total_index = [char_to_index[char] for char in text]"
      ]
    },
    {
      "cell_type": "code",
      "execution_count": null,
      "metadata": {
        "colab": {
          "base_uri": "https://localhost:8080/"
        },
        "id": "2vtrEqlZ0Odv",
        "outputId": "ddc51fe4-f1b6-4a3b-f472-8ddf2da06f47"
      },
      "outputs": [
        {
          "data": {
            "text/plain": [
              "[40, 42, 29, 30, 25, 27, 29, 1, 1, 1]"
            ]
          },
          "execution_count": 58,
          "metadata": {},
          "output_type": "execute_result"
        }
      ],
      "source": [
        "total_index[:10]"
      ]
    },
    {
      "cell_type": "code",
      "execution_count": null,
      "metadata": {
        "colab": {
          "base_uri": "https://localhost:8080/",
          "height": 35
        },
        "id": "TQ_OTeAE0Sgv",
        "outputId": "561e5e4e-0f7c-41d6-df2f-8c797cf50350"
      },
      "outputs": [
        {
          "data": {
            "application/vnd.google.colaboratory.intrinsic+json": {
              "type": "string"
            },
            "text/plain": [
              "'PREFACE\\n\\n\\nSUPPOSING that '"
            ]
          },
          "execution_count": 59,
          "metadata": {},
          "output_type": "execute_result"
        }
      ],
      "source": [
        "''.join(index_to_char[i] for i in total_index[:25])"
      ]
    },
    {
      "cell_type": "code",
      "execution_count": null,
      "metadata": {
        "id": "c3TRoy8O1AJ8"
      },
      "outputs": [],
      "source": [
        "from past.builtins import xrange\n",
        "pred_num = 7\n",
        "xin = [[total_index[j+i] for j in xrange(0, len(total_index)-1-pred_num, pred_num)] for i in range(pred_num)]\n",
        "y = [total_index[i+pred_num] for i in xrange(0, len(total_index)-1-pred_num, pred_num)]"
      ]
    },
    {
      "cell_type": "code",
      "execution_count": null,
      "metadata": {
        "id": "-wwbMNkE1Zhx"
      },
      "outputs": [],
      "source": [
        "X = [np.stack(xin[i][:-2]) for i in range(pred_num)]\n",
        "Y = np.stack(y[:-2])"
      ]
    },
    {
      "cell_type": "code",
      "execution_count": null,
      "metadata": {
        "colab": {
          "base_uri": "https://localhost:8080/"
        },
        "id": "L6oklWjR1c0p",
        "outputId": "dd82f61f-cdf4-4ebf-82df-5176a8af8c4c"
      },
      "outputs": [
        {
          "data": {
            "text/plain": [
              "[array([40,  1, 39, ..., 67,  2,  2]),\n",
              " array([42,  1, 43, ...,  2, 54, 62]),\n",
              " array([29,  1, 33, ..., 76, 72, 67]),\n",
              " array([30, 43, 38, ..., 68,  2, 57]),\n",
              " array([25, 45, 31, ..., 71, 73, 62]),\n",
              " array([27, 40,  2, ..., 65, 61, 56]),\n",
              " array([29, 40, 73, ..., 57, 58, 54])]"
            ]
          },
          "execution_count": 62,
          "metadata": {},
          "output_type": "execute_result"
        }
      ],
      "source": [
        "X"
      ]
    },
    {
      "cell_type": "code",
      "execution_count": null,
      "metadata": {
        "colab": {
          "base_uri": "https://localhost:8080/"
        },
        "id": "xKdgmXBx1gvf",
        "outputId": "37dee76a-a3c2-4968-fca4-548d8295c0ba"
      },
      "outputs": [
        {
          "data": {
            "text/plain": [
              "array([ 1, 39, 61, 73,  2,  9, 61,  2])"
            ]
          },
          "execution_count": 63,
          "metadata": {},
          "output_type": "execute_result"
        }
      ],
      "source": [
        "Y[:8]"
      ]
    },
    {
      "cell_type": "code",
      "execution_count": null,
      "metadata": {
        "colab": {
          "base_uri": "https://localhost:8080/"
        },
        "id": "z3d2DDLl1ka3",
        "outputId": "56e7ca95-afa1-4715-f778-b7bf696bcdfb"
      },
      "outputs": [
        {
          "data": {
            "text/plain": [
              "((85839,), (85839,))"
            ]
          },
          "execution_count": 64,
          "metadata": {},
          "output_type": "execute_result"
        }
      ],
      "source": [
        "X[0].shape, Y.shape"
      ]
    },
    {
      "cell_type": "code",
      "execution_count": null,
      "metadata": {
        "id": "NYrs32RR1o32"
      },
      "outputs": [],
      "source": [
        "hidden_layers = 256\n",
        "vocab_size = 86\n",
        "n_fac = 42"
      ]
    },
    {
      "cell_type": "code",
      "execution_count": null,
      "metadata": {
        "id": "RiXZ-Jka1rrf"
      },
      "outputs": [],
      "source": [
        "model = Sequential([\n",
        "        Embedding(vocab_size, n_fac, input_length=pred_num),\n",
        "        SimpleRNN(hidden_layers, activation='relu'),\n",
        "        Dense(vocab_size, activation='softmax')\n",
        "    ])"
      ]
    },
    {
      "cell_type": "code",
      "execution_count": null,
      "metadata": {
        "colab": {
          "base_uri": "https://localhost:8080/"
        },
        "id": "rjsw_dRg1wVG",
        "outputId": "d529731f-108c-407a-8d0a-c89da7ff126f"
      },
      "outputs": [
        {
          "name": "stdout",
          "output_type": "stream",
          "text": [
            "Model: \"sequential_1\"\n",
            "_________________________________________________________________\n",
            " Layer (type)                Output Shape              Param #   \n",
            "=================================================================\n",
            " embedding_1 (Embedding)     (None, 7, 42)             3612      \n",
            "                                                                 \n",
            " simple_rnn_1 (SimpleRNN)    (None, 256)               76544     \n",
            "                                                                 \n",
            " dense_1 (Dense)             (None, 86)                22102     \n",
            "                                                                 \n",
            "=================================================================\n",
            "Total params: 102,258\n",
            "Trainable params: 102,258\n",
            "Non-trainable params: 0\n",
            "_________________________________________________________________\n"
          ]
        }
      ],
      "source": [
        "model.summary()"
      ]
    },
    {
      "cell_type": "code",
      "execution_count": null,
      "metadata": {
        "id": "Cj_QIWui11I2"
      },
      "outputs": [],
      "source": [
        "model.compile(loss='sparse_categorical_crossentropy', optimizer=Adam())"
      ]
    },
    {
      "cell_type": "code",
      "execution_count": null,
      "metadata": {
        "colab": {
          "base_uri": "https://localhost:8080/"
        },
        "id": "CL3sFt-v141_",
        "outputId": "921ad558-af95-4b4e-8945-ea3ad7197807"
      },
      "outputs": [
        {
          "name": "stdout",
          "output_type": "stream",
          "text": [
            "Epoch 1/5\n",
            "1342/1342 [==============================] - 23s 17ms/step - loss: 2.5496\n",
            "Epoch 2/5\n",
            "1342/1342 [==============================] - 22s 17ms/step - loss: 2.0723\n",
            "Epoch 3/5\n",
            "1342/1342 [==============================] - 23s 17ms/step - loss: 1.8798\n",
            "Epoch 4/5\n",
            "1342/1342 [==============================] - 22s 16ms/step - loss: 1.7575\n",
            "Epoch 5/5\n",
            "1342/1342 [==============================] - 22s 16ms/step - loss: 1.6736\n"
          ]
        },
        {
          "data": {
            "text/plain": [
              "<keras.callbacks.History at 0x7fbb0e543190>"
            ]
          },
          "execution_count": 69,
          "metadata": {},
          "output_type": "execute_result"
        }
      ],
      "source": [
        "model.fit(np.stack(X, 1), Y, batch_size=64, epochs=5)"
      ]
    },
    {
      "cell_type": "code",
      "execution_count": null,
      "metadata": {
        "id": "62V0TOXV2Tow"
      },
      "outputs": [],
      "source": [
        "model.save_weights('simpleRNN_3pred.h5')"
      ]
    },
    {
      "cell_type": "code",
      "execution_count": null,
      "metadata": {
        "id": "6gRykeuH2Yy-"
      },
      "outputs": [],
      "source": [
        "model.load_weights('simpleRNN_3pred.h5')"
      ]
    },
    {
      "cell_type": "code",
      "execution_count": null,
      "metadata": {
        "id": "0j7vR1yN2Y1w"
      },
      "outputs": [],
      "source": [
        "model.save_weights('simpleRNN_7pred.h5')"
      ]
    },
    {
      "cell_type": "code",
      "execution_count": null,
      "metadata": {
        "id": "tTp2cK1F2Y4I"
      },
      "outputs": [],
      "source": [
        "model.load_weights('simpleRNN_7pred.h5')"
      ]
    },
    {
      "cell_type": "code",
      "execution_count": null,
      "metadata": {
        "id": "s2-P2GL62iuW"
      },
      "outputs": [],
      "source": [
        "def predict_next_char(inp):\n",
        "    index = [char_to_index[i] for i in inp]\n",
        "    arr = np.expand_dims(np.array(index), axis=0)\n",
        "    prediction = model.predict(arr)\n",
        "    return index_to_char[np.argmax(prediction)]"
      ]
    },
    {
      "cell_type": "code",
      "execution_count": null,
      "metadata": {
        "colab": {
          "base_uri": "https://localhost:8080/",
          "height": 35
        },
        "id": "eOvK_UY62ixg",
        "outputId": "73e45c35-493c-4118-edb0-68f0baa37dc8"
      },
      "outputs": [
        {
          "data": {
            "application/vnd.google.colaboratory.intrinsic+json": {
              "type": "string"
            },
            "text/plain": [
              "'h'"
            ]
          },
          "execution_count": 75,
          "metadata": {},
          "output_type": "execute_result"
        }
      ],
      "source": [
        "predict_next_char('those w')"
      ]
    },
    {
      "cell_type": "code",
      "execution_count": null,
      "metadata": {
        "id": "YPxHw9gy6rkF"
      },
      "outputs": [],
      "source": [
        "ys = [[total_index[j+i] for j in xrange(1, len(total_index)-pred_num, pred_num)] for i in range(pred_num)]"
      ]
    },
    {
      "cell_type": "code",
      "execution_count": null,
      "metadata": {
        "id": "d2wiVG656xZ2"
      },
      "outputs": [],
      "source": [
        "Y_return = [np.stack(ys[i][:-2]) for i in range(pred_num)]"
      ]
    },
    {
      "cell_type": "code",
      "execution_count": null,
      "metadata": {
        "colab": {
          "base_uri": "https://localhost:8080/"
        },
        "id": "hMdMUwwb60Bs",
        "outputId": "104696fd-9256-4c8a-d11f-a89acc97601d"
      },
      "outputs": [
        {
          "data": {
            "text/plain": [
              "[array([40,  1, 39, ..., 67,  2,  2]),\n",
              " array([42,  1, 43, ...,  2, 54, 62]),\n",
              " array([29,  1, 33, ..., 76, 72, 67]),\n",
              " array([30, 43, 38, ..., 68,  2, 57]),\n",
              " array([25, 45, 31, ..., 71, 73, 62]),\n",
              " array([27, 40,  2, ..., 65, 61, 56]),\n",
              " array([29, 40, 73, ..., 57, 58, 54])]"
            ]
          },
          "execution_count": 79,
          "metadata": {},
          "output_type": "execute_result"
        }
      ],
      "source": [
        "X"
      ]
    },
    {
      "cell_type": "code",
      "execution_count": null,
      "metadata": {
        "colab": {
          "base_uri": "https://localhost:8080/"
        },
        "id": "Yb52jJWw63Ad",
        "outputId": "3c53a5d2-b8be-4aa2-d906-b2ced0551c1d"
      },
      "outputs": [
        {
          "data": {
            "text/plain": [
              "[array([42,  1, 43, ...,  2, 54, 62]),\n",
              " array([29,  1, 33, ..., 76, 72, 67]),\n",
              " array([30, 43, 38, ..., 68,  2, 57]),\n",
              " array([25, 45, 31, ..., 71, 73, 62]),\n",
              " array([27, 40,  2, ..., 65, 61, 56]),\n",
              " array([29, 40, 73, ..., 57, 58, 54]),\n",
              " array([ 1, 39, 61, ...,  2,  2, 73])]"
            ]
          },
          "execution_count": 80,
          "metadata": {},
          "output_type": "execute_result"
        }
      ],
      "source": [
        "Y_return"
      ]
    },
    {
      "cell_type": "code",
      "execution_count": null,
      "metadata": {
        "id": "Dp1-wbex661E"
      },
      "outputs": [],
      "source": [
        "vocab_size = 86\n",
        "n_fac = 42\n",
        "hidden_layers = 256"
      ]
    },
    {
      "cell_type": "code",
      "execution_count": null,
      "metadata": {
        "id": "WDBm9o5B69ld"
      },
      "outputs": [],
      "source": [
        "return_model = Sequential([\n",
        "        Embedding(vocab_size, n_fac, input_length=pred_num),\n",
        "        SimpleRNN(hidden_layers, return_sequences=True, activation='relu'),\n",
        "        TimeDistributed(Dense(vocab_size, activation='softmax'))\n",
        "    ])"
      ]
    },
    {
      "cell_type": "code",
      "execution_count": null,
      "metadata": {
        "colab": {
          "base_uri": "https://localhost:8080/"
        },
        "id": "ABfbQaB47BA1",
        "outputId": "42ab51b9-0dd4-49f7-edf2-fd9fc1547eb6"
      },
      "outputs": [
        {
          "name": "stdout",
          "output_type": "stream",
          "text": [
            "Model: \"sequential_2\"\n",
            "_________________________________________________________________\n",
            " Layer (type)                Output Shape              Param #   \n",
            "=================================================================\n",
            " embedding_2 (Embedding)     (None, 7, 42)             3612      \n",
            "                                                                 \n",
            " simple_rnn_2 (SimpleRNN)    (None, 7, 256)            76544     \n",
            "                                                                 \n",
            " time_distributed (TimeDistr  (None, 7, 86)            22102     \n",
            " ibuted)                                                         \n",
            "                                                                 \n",
            "=================================================================\n",
            "Total params: 102,258\n",
            "Trainable params: 102,258\n",
            "Non-trainable params: 0\n",
            "_________________________________________________________________\n"
          ]
        }
      ],
      "source": [
        "return_model.summary()"
      ]
    },
    {
      "cell_type": "code",
      "execution_count": null,
      "metadata": {
        "id": "ORodWk2x7EXU"
      },
      "outputs": [],
      "source": [
        "return_model.compile(loss='sparse_categorical_crossentropy', optimizer=Adam())"
      ]
    },
    {
      "cell_type": "code",
      "execution_count": null,
      "metadata": {
        "id": "UZS6cc1k7HSs"
      },
      "outputs": [],
      "source": [
        "X_model = np.stack(X, 1)\n",
        "Y_model = np.expand_dims(np.stack(Y_return, 1), axis=-1)"
      ]
    },
    {
      "cell_type": "code",
      "execution_count": null,
      "metadata": {
        "colab": {
          "base_uri": "https://localhost:8080/"
        },
        "id": "kkMCRorR7JtX",
        "outputId": "34d3db50-dbb5-4640-c386-71ec0864d2b0"
      },
      "outputs": [
        {
          "name": "stdout",
          "output_type": "stream",
          "text": [
            "Epoch 1/5\n",
            "1342/1342 [==============================] - 24s 17ms/step - loss: 2.3480\n",
            "Epoch 2/5\n",
            "1342/1342 [==============================] - 23s 17ms/step - loss: 1.9841\n",
            "Epoch 3/5\n",
            "1342/1342 [==============================] - 23s 17ms/step - loss: 1.8869\n",
            "Epoch 4/5\n",
            "1342/1342 [==============================] - 22s 17ms/step - loss: 1.8363\n",
            "Epoch 5/5\n",
            "1342/1342 [==============================] - 23s 17ms/step - loss: 1.8041\n"
          ]
        },
        {
          "data": {
            "text/plain": [
              "<keras.callbacks.History at 0x7fbc084056d0>"
            ]
          },
          "execution_count": 86,
          "metadata": {},
          "output_type": "execute_result"
        }
      ],
      "source": [
        "return_model.fit(X_model, Y_model, batch_size=64, epochs=5)"
      ]
    },
    {
      "cell_type": "code",
      "execution_count": null,
      "metadata": {
        "colab": {
          "base_uri": "https://localhost:8080/"
        },
        "id": "SvJPJ-x87OIm",
        "outputId": "22c85d70-e4f9-484f-d0d0-461994156e90"
      },
      "outputs": [
        {
          "name": "stdout",
          "output_type": "stream",
          "text": [
            "Epoch 1/5\n",
            "1342/1342 [==============================] - 23s 17ms/step - loss: 1.7472\n",
            "Epoch 2/5\n",
            "1342/1342 [==============================] - 23s 17ms/step - loss: 1.7353\n",
            "Epoch 3/5\n",
            "1342/1342 [==============================] - 23s 17ms/step - loss: 1.7300\n",
            "Epoch 4/5\n",
            "1342/1342 [==============================] - 23s 17ms/step - loss: 1.7258\n",
            "Epoch 5/5\n",
            "1342/1342 [==============================] - 22s 17ms/step - loss: 1.7222\n"
          ]
        },
        {
          "data": {
            "text/plain": [
              "<keras.callbacks.History at 0x7fbb0ee9c1d0>"
            ]
          },
          "execution_count": 87,
          "metadata": {},
          "output_type": "execute_result"
        }
      ],
      "source": [
        "return_model.optimizer.lr = 1e-4\n",
        "return_model.fit(X_model, Y_model, batch_size=64, epochs=5)"
      ]
    },
    {
      "cell_type": "code",
      "execution_count": null,
      "metadata": {
        "colab": {
          "background_save": true,
          "base_uri": "https://localhost:8080/"
        },
        "id": "h7gi0ytB7Q81",
        "outputId": "865a7284-ec3a-4e67-8334-ff66a6744759"
      },
      "outputs": [
        {
          "name": "stdout",
          "output_type": "stream",
          "text": [
            "Epoch 1/5\n",
            "1342/1342 [==============================] - 23s 17ms/step - loss: 1.7191\n",
            "Epoch 2/5\n",
            "1342/1342 [==============================] - 23s 17ms/step - loss: 1.7161\n",
            "Epoch 3/5\n",
            "1342/1342 [==============================] - 23s 17ms/step - loss: 1.7132\n",
            "Epoch 4/5\n",
            "1342/1342 [==============================] - 22s 17ms/step - loss: 1.7107\n",
            "Epoch 5/5\n",
            "1342/1342 [==============================] - 22s 16ms/step - loss: 1.7082\n"
          ]
        },
        {
          "data": {
            "text/plain": [
              "<keras.callbacks.History at 0x7fbb0eec2d90>"
            ]
          },
          "execution_count": null,
          "metadata": {},
          "output_type": "execute_result"
        }
      ],
      "source": [
        "return_model.optimizer.lr = 1e-4\n",
        "return_model.fit(X_model, Y_model, batch_size=64, epochs=5)"
      ]
    },
    {
      "cell_type": "code",
      "execution_count": null,
      "metadata": {
        "id": "3Zap7Dwk7TMd"
      },
      "outputs": [],
      "source": [
        "return_model.save_weights('return_sequences_25.h5')"
      ]
    },
    {
      "cell_type": "code",
      "execution_count": null,
      "metadata": {
        "id": "hd-h01Nm7Zvl"
      },
      "outputs": [],
      "source": [
        "def predict_every_char(inp):\n",
        "    l = []\n",
        "    p = 0\n",
        "    while p<len(inp):\n",
        "        pre_inp = inp[p:p+pred_num]\n",
        "        if len(pre_inp) < pred_num:\n",
        "            pre_inp = pre_inp + ' '*(pred_num - len(pre_inp))\n",
        "            l.append(pre_inp)\n",
        "        else:\n",
        "            l.append(pre_inp) \n",
        "        p+=pred_num\n",
        "\n",
        "#     index = [char_to_index[i] for i in inp]\n",
        "#     arr = np.expand_dims(index, axis=0)\n",
        "#     prediction = return_model.predict(arr)\n",
        "#     return ''.join([index_to_char[np.argmax(i)] for i in prediction[0]])\n",
        "    \n",
        "    final = []\n",
        "    for half in l:\n",
        "        index = [char_to_index[i] for i in half]\n",
        "        arr = np.expand_dims(index, axis=0)\n",
        "        prediction = return_model.predict(arr)\n",
        "        final.append(''.join([index_to_char[np.argmax(i)] for i in prediction[0]]))\n",
        "    \n",
        "    return ''.join(final)"
      ]
    },
    {
      "cell_type": "code",
      "execution_count": null,
      "metadata": {
        "id": "HrOp-Ums7dU1",
        "outputId": "ada8d529-da71-40f2-f63e-9449305ab952",
        "colab": {
          "base_uri": "https://localhost:8080/",
          "height": 35
        }
      },
      "outputs": [
        {
          "output_type": "execute_result",
          "data": {
            "application/vnd.google.colaboratory.intrinsic+json": {
              "type": "string"
            },
            "text/plain": [
              "'nd the teu toa et    '"
            ]
          },
          "metadata": {},
          "execution_count": 90
        }
      ],
      "source": [
        "predict_every_char('and the boy left')"
      ]
    },
    {
      "cell_type": "code",
      "execution_count": null,
      "metadata": {
        "id": "PgwMbK5B7fn_",
        "outputId": "c57537a9-c41c-4ba6-9de9-e9fb8446beec",
        "colab": {
          "base_uri": "https://localhost:8080/",
          "height": 35
        }
      },
      "outputs": [
        {
          "output_type": "execute_result",
          "data": {
            "application/vnd.google.colaboratory.intrinsic+json": {
              "type": "string"
            },
            "text/plain": [
              "'hen is '"
            ]
          },
          "metadata": {},
          "execution_count": 91
        }
      ],
      "source": [
        "predict_every_char('this is')"
      ]
    }
  ],
  "metadata": {
    "accelerator": "GPU",
    "colab": {
      "collapsed_sections": [],
      "name": "Untitled0.ipynb",
      "provenance": [],
      "authorship_tag": "ABX9TyPjlWSH+9bEF603CjtHsTC2",
      "include_colab_link": true
    },
    "kernelspec": {
      "display_name": "Python 3",
      "name": "python3"
    },
    "language_info": {
      "name": "python"
    }
  },
  "nbformat": 4,
  "nbformat_minor": 0
}